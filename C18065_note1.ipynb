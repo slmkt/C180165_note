{
  "cells": [
    {
      "metadata": {
        "collapsed": true,
        "trusted": false
      },
      "cell_type": "markdown",
      "source": "# 課題\n## ニューロンの活性化関数としてステップ関数を用いて\n\n"
    },
    {
      "metadata": {
        "trusted": true
      },
      "cell_type": "code",
      "source": "import numpy as np \nimport matplotlib.pyplot as plt\n%matplotlib inline\ndef sigmoid(x) :\n    return 1/(1+np.exp(-x))",
      "execution_count": null,
      "outputs": []
    },
    {
      "metadata": {
        "trusted": true
      },
      "cell_type": "code",
      "source": "X=np.array([1,1,1])\nw=np.array([-1.2,0.7,0.9])\ntheta = -1,2\nx=w[0]*X[0]+w[1]*X[1]\nprint('x = ',x)\ny =sigmoid(x)\nprint('y = ',y)",
      "execution_count": null,
      "outputs": []
    },
    {
      "metadata": {
        "trusted": true
      },
      "cell_type": "code",
      "source": "def step_func(x):\n    return 1*(x>0 or x==0)\nX=np.array([1,1,1])\nw=np.array([-1.2,0.7,0.9])\nx=np.dot(X,w)\ny=step_func(x)\nprint(y)",
      "execution_count": null,
      "outputs": []
    },
    {
      "metadata": {
        "trusted": true
      },
      "cell_type": "code",
      "source": "",
      "execution_count": null,
      "outputs": []
    }
  ],
  "metadata": {
    "kernelspec": {
      "name": "python36",
      "display_name": "Python 3.6",
      "language": "python"
    },
    "language_info": {
      "mimetype": "text/x-python",
      "nbconvert_exporter": "python",
      "name": "python",
      "pygments_lexer": "ipython3",
      "version": "3.6.6",
      "file_extension": ".py",
      "codemirror_mode": {
        "version": 3,
        "name": "ipython"
      }
    }
  },
  "nbformat": 4,
  "nbformat_minor": 2
}